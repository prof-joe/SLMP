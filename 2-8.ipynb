{
 "cells": [
  {
   "cell_type": "markdown",
   "metadata": {},
   "source": [
    "# 第８章 サポートベクトルマシン"
   ]
  },
  {
   "cell_type": "markdown",
   "metadata": {},
   "source": [
    "## 8.1 最適な境界"
   ]
  },
  {
   "cell_type": "markdown",
   "metadata": {},
   "source": [
    "## 8.2 最適化の理論"
   ]
  },
  {
   "cell_type": "markdown",
   "metadata": {},
   "source": [
    "## 8.3 サポートベクトルマシンの解"
   ]
  },
  {
   "cell_type": "code",
   "execution_count": 11,
   "metadata": {},
   "outputs": [],
   "source": [
    "import numpy as np\n",
    "import matplotlib.pyplot as plt\n",
    "%matplotlib inline\n",
    "import japanize_matplotlib\n",
    "import scipy\n",
    "from scipy import stats\n",
    "from numpy.random import randn #正規乱数"
   ]
  },
  {
   "cell_type": "code",
   "execution_count": 12,
   "metadata": {},
   "outputs": [],
   "source": [
    "import cvxopt\n",
    "from cvxopt import matrix"
   ]
  },
  {
   "cell_type": "code",
   "execution_count": 13,
   "metadata": {},
   "outputs": [],
   "source": [
    "a=randn(1);b=randn(1)\n",
    "n=100\n",
    "X=randn(n,2)\n",
    "y=np.sign(a*X[:,0]+b*X[:,1]+0.1*randn(n))\n",
    "y=y.reshape(-1,1)  #形を明示してわたす必要がある"
   ]
  },
  {
   "cell_type": "code",
   "execution_count": 14,
   "metadata": {},
   "outputs": [],
   "source": [
    "def svm_1(X,y,C):\n",
    "    eps=0.0001\n",
    "    n=X.shape[0]\n",
    "    P=np.zeros((n,n))\n",
    "    for i in range(n):\n",
    "        for j in range(n):\n",
    "            P[i,j]=np.dot(X[i,:],X[j,:])*y[i]*y[j]\n",
    "    #パッケージにあるmatrix関数を使って指定する必要がある\n",
    "    P=matrix(P+np.eye(n)*eps)                \n",
    "    A=matrix(-y.T.astype(np.float))\n",
    "    b=matrix(np.array([0]).astype(np.float))\n",
    "    h=matrix(np.array([C]*n+[0]*n).reshape(-1,1).astype(np.float))\n",
    "    G=matrix(np.concatenate([np.diag(np.ones(n)),np.diag(-np.ones(n))]))       \n",
    "    q=matrix(np.array([-1]*n).astype(np.float))\n",
    "    res=cvxopt.solvers.qp(P,q,A=A, b=b,G=G, h=h)    # ソルバーの実行\n",
    "    alpha=np.array(res['x'])  #xが本文中のalphaに対応\n",
    "    beta=((alpha*y).T@X).reshape(2,1)\n",
    "    index = (eps < alpha[:, 0]) & (alpha[:, 0] < C - eps)\n",
    "    beta_0=np.mean(y[index]-X[index,:]@beta)\n",
    "    return {'beta':beta, 'beta_0':beta_0}"
   ]
  },
  {
   "cell_type": "code",
   "execution_count": 15,
   "metadata": {},
   "outputs": [
    {
     "data": {
      "text/plain": [
       "<4x2 matrix, tc='d'>"
      ]
     },
     "execution_count": 15,
     "metadata": {},
     "output_type": "execute_result"
    }
   ],
   "source": [
    "n=10\n",
    "matrix(np.concatenate([np.diag(np.ones(2)),np.diag(-np.ones(2))]))"
   ]
  },
  {
   "cell_type": "code",
   "execution_count": 16,
   "metadata": {},
   "outputs": [
    {
     "name": "stdout",
     "output_type": "stream",
     "text": [
      "     pcost       dcost       gap    pres   dres\n",
      " 0: -2.0069e+02 -1.0360e+04  3e+04  1e+00  9e-15\n",
      " 1: -7.1878e+01 -4.2350e+03  6e+03  1e-01  1e-14\n",
      " 2: -4.9645e+01 -6.7161e+02  7e+02  1e-02  4e-14\n",
      " 3: -1.2510e+02 -2.9873e+02  2e+02  3e-03  1e-14\n",
      " 4: -1.4643e+02 -2.5888e+02  1e+02  2e-03  9e-15\n",
      " 5: -1.6228e+02 -2.2570e+02  7e+01  7e-04  6e-15\n",
      " 6: -1.7028e+02 -2.1153e+02  4e+01  3e-04  6e-15\n",
      " 7: -1.7702e+02 -2.0174e+02  3e+01  1e-04  6e-15\n",
      " 8: -1.8287e+02 -1.9153e+02  9e+00  4e-05  7e-15\n",
      " 9: -1.8523e+02 -1.8834e+02  3e+00  6e-06  6e-15\n",
      "10: -1.8658e+02 -1.8666e+02  8e-02  1e-07  6e-15\n",
      "11: -1.8661e+02 -1.8661e+02  9e-04  2e-09  7e-15\n",
      "12: -1.8661e+02 -1.8661e+02  9e-06  2e-11  7e-15\n",
      "Optimal solution found.\n"
     ]
    },
    {
     "data": {
      "text/plain": [
       "{'beta': array([[-2.6643662 ],\n",
       "        [-3.18911546]]), 'beta_0': -0.48734660376992944}"
      ]
     },
     "execution_count": 16,
     "metadata": {},
     "output_type": "execute_result"
    },
    {
     "data": {
      "image/png": "[encoded data removed]",
      "text/plain": [
       "<Figure size 432x288 with 1 Axes>"
      ]
     },
     "metadata": {
      "needs_background": "light"
     },
     "output_type": "display_data"
    }
   ],
   "source": [
    "a=randn(1);b=randn(1)\n",
    "n=100\n",
    "X=randn(n,2)\n",
    "y=np.sign(a*X[:,0]+b*X[:,1]+0.1*randn(n))\n",
    "y=y.reshape(-1,1)  #形を明示してわたす必要がある\n",
    "for i in range(n):\n",
    "    if y[i]==1:\n",
    "        plt.scatter(X[i,0],X[i,1],c=\"red\")\n",
    "    else :\n",
    "        plt.scatter(X[i,0],X[i,1],c=\"blue\")\n",
    "res=svm_1(X,y,C=10)\n",
    "def f(x):\n",
    "    return -res['beta_0']/res['beta'][1]-x*res['beta'][0]/res['beta'][1]\n",
    "x_seq=np.arange(-3,3,0.5)\n",
    "plt.plot(x_seq,f(x_seq))\n",
    "res"
   ]
  },
  {
   "cell_type": "markdown",
   "metadata": {},
   "source": [
    "## 8.4 カーネルを用いたサポートベクトルマシンの拡張"
   ]
  },
  {
   "cell_type": "code",
   "execution_count": 17,
   "metadata": {},
   "outputs": [],
   "source": [
    "def K_linear(x,y):\n",
    "    return x.T@y\n",
    "def K_poly(x,y):\n",
    "    return (1+x.T@y)**2"
   ]
  },
  {
   "cell_type": "code",
   "execution_count": 18,
   "metadata": {},
   "outputs": [],
   "source": [
    "def svm_2(X,y,C,K):\n",
    "    eps=0.0001\n",
    "    n=X.shape[0]\n",
    "    P=np.zeros((n,n))\n",
    "    for i in range(n):\n",
    "        for j in range(n):\n",
    "            P[i,j]=K(X[i,:],X[j,:])*y[i]*y[j]\n",
    "    #パッケージにあるmatrix関数を使って指定する必要がある\n",
    "    P=matrix(P+np.eye(n)*eps)                \n",
    "    A=matrix(-y.T.astype(np.float))\n",
    "    b=matrix(np.array([0]).astype(np.float))\n",
    "    h=matrix(np.array([C]*n+[0]*n).reshape(-1,1).astype(np.float))\n",
    "    G=matrix(np.concatenate([np.diag(np.ones(n)),np.diag(-np.ones(n))]))       \n",
    "    q=matrix(np.array([-1]*n).astype(np.float))\n",
    "    res=cvxopt.solvers.qp(P,q, A=A, b=b,G=G, h=h)\n",
    "    alpha=np.array(res['x'])  #xが本文中のalphaに対応\n",
    "    beta=((alpha*y).T@X).reshape(2,1)\n",
    "    index = (eps < alpha[:, 0]) & (alpha[:, 0] < C - eps)\n",
    "    beta_0=np.mean(y[index]-X[index,:]@beta)\n",
    "    return {'alpha':alpha, 'beta':beta, 'beta_0':beta_0}"
   ]
  },
  {
   "cell_type": "code",
   "execution_count": 19,
   "metadata": {},
   "outputs": [],
   "source": [
    "# 実行\n",
    "a=3;b=-1\n",
    "n=200\n",
    "X=randn(n,2)\n",
    "y=np.sign(a*X[:,0]+b*X[:,1]**2+0.3*randn(n))\n",
    "y=y.reshape(-1,1)"
   ]
  },
  {
   "cell_type": "code",
   "execution_count": 20,
   "metadata": {},
   "outputs": [],
   "source": [
    "def plot_kernel(K,line): #引数lineで線の種類を指定する\n",
    "    res=svm_2(X,y,1,K)\n",
    "    alpha=res['alpha'][:,0]\n",
    "    beta_0=res['beta_0']\n",
    "    def f(u,v):\n",
    "        S=beta_0\n",
    "        for i in range(X.shape[0]):\n",
    "            S=S+alpha[i]*y[i]*K(X[i,:],[u,v])\n",
    "        return S[0]\n",
    "    uu=np.arange(-2,2,0.1); vv=np.arange(-2,2,0.1); ww=[]\n",
    "    for v in vv:\n",
    "        w=[]\n",
    "        for u in uu:\n",
    "            w.append(f(u,v))\n",
    "        ww.append(w)\n",
    "    plt.contour(uu,vv,ww,levels=0,linestyles=line)"
   ]
  },
  {
   "cell_type": "code",
   "execution_count": 21,
   "metadata": {},
   "outputs": [
    {
     "name": "stdout",
     "output_type": "stream",
     "text": [
      "     pcost       dcost       gap    pres   dres\n",
      " 0: -6.9367e+01 -4.9790e+02  3e+03  3e+00  1e-14\n",
      " 1: -4.4911e+01 -3.2352e+02  5e+02  4e-01  2e-14\n",
      " 2: -3.3165e+01 -1.4802e+02  2e+02  1e-01  1e-14\n",
      " 3: -2.6197e+01 -5.2125e+01  4e+01  3e-02  7e-15\n",
      " 4: -2.7091e+01 -3.1259e+01  6e+00  3e-03  6e-15\n",
      " 5: -2.7876e+01 -2.8779e+01  1e+00  5e-04  6e-15\n",
      " 6: -2.8096e+01 -2.8342e+01  3e-01  9e-05  5e-15\n",
      " 7: -2.8181e+01 -2.8204e+01  2e-02  3e-06  7e-15\n",
      " 8: -2.8191e+01 -2.8192e+01  1e-03  1e-07  5e-15\n",
      " 9: -2.8191e+01 -2.8191e+01  2e-05  2e-09  5e-15\n",
      "Optimal solution found.\n",
      "     pcost       dcost       gap    pres   dres\n",
      " 0: -8.5427e+01 -4.8751e+02  2e+03  3e+00  4e-15\n",
      " 1: -5.5963e+01 -3.1674e+02  5e+02  4e-01  4e-15\n",
      " 2: -4.4063e+01 -9.3745e+01  6e+01  3e-02  9e-15\n",
      " 3: -4.9720e+01 -6.0749e+01  1e+01  6e-03  3e-15\n",
      " 4: -5.1830e+01 -5.7179e+01  6e+00  2e-03  2e-15\n",
      " 5: -5.2771e+01 -5.5602e+01  3e+00  1e-03  2e-15\n",
      " 6: -5.3517e+01 -5.4333e+01  9e-01  2e-04  2e-15\n",
      " 7: -5.3710e+01 -5.4033e+01  3e-01  7e-05  2e-15\n",
      " 8: -5.3835e+01 -5.3872e+01  4e-02  2e-06  2e-15\n",
      " 9: -5.3852e+01 -5.3852e+01  6e-04  3e-08  2e-15\n",
      "10: -5.3852e+01 -5.3852e+01  6e-06  3e-10  2e-15\n",
      "Optimal solution found.\n"
     ]
    },
    {
     "data": {
      "image/png": "[encoded data removed]",
      "text/plain": [
       "<Figure size 432x288 with 1 Axes>"
      ]
     },
     "metadata": {
      "needs_background": "light"
     },
     "output_type": "display_data"
    }
   ],
   "source": [
    "for i in range(n):\n",
    "    if y[i]==1:\n",
    "        plt.scatter(X[i,0],X[i,1],c=\"red\")\n",
    "    else:\n",
    "        plt.scatter(X[i,0],X[i,1],c=\"blue\")\n",
    "plot_kernel(K_poly,line=\"dashed\")\n",
    "plot_kernel(K_linear,line=\"solid\")"
   ]
  },
  {
   "cell_type": "code",
   "execution_count": 22,
   "metadata": {},
   "outputs": [],
   "source": [
    "import sklearn\n",
    "from sklearn import svm"
   ]
  },
  {
   "cell_type": "code",
   "execution_count": 23,
   "metadata": {},
   "outputs": [],
   "source": [
    "x=randn(200,2)\n",
    "x[0:100,]=x[0:100,]+2\n",
    "x[100:150,]=x[100:150,]-2\n",
    "y=np.concatenate(([1 for i in range(150)],[2 for i in range(50)]))"
   ]
  },
  {
   "cell_type": "code",
   "execution_count": 24,
   "metadata": {},
   "outputs": [],
   "source": [
    "train=np.random.choice(200, 100, replace=False)\n",
    "test=list(set(range(200))-set(train))\n",
    "res_svm = svm.SVC(kernel=\"rbf\",gamma=1,C=100)  #チューニングなしのSVM"
   ]
  },
  {
   "cell_type": "code",
   "execution_count": 25,
   "metadata": {},
   "outputs": [
    {
     "data": {
      "text/plain": [
       "SVC(C=100, cache_size=200, class_weight=None, coef0=0.0,\n",
       "    decision_function_shape='ovr', degree=3, gamma=1, kernel='rbf', max_iter=-1,\n",
       "    probability=False, random_state=None, shrinking=True, tol=0.001,\n",
       "    verbose=False)"
      ]
     },
     "execution_count": 25,
     "metadata": {},
     "output_type": "execute_result"
    }
   ],
   "source": [
    "res_svm.fit(x[train,],y[train])  #実行"
   ]
  },
  {
   "cell_type": "code",
   "execution_count": 26,
   "metadata": {},
   "outputs": [
    {
     "data": {
      "text/plain": [
       "array([1, 1, 1, 2, 1, 1, 1, 1, 1, 1, 1, 1, 1, 1, 1, 1, 1, 1, 2, 1, 1, 1,\n",
       "       1, 1, 1, 1, 2, 1, 1, 1, 1, 2, 1, 1, 1, 1, 1, 1, 1, 1, 2, 1, 1, 1,\n",
       "       1, 1, 1, 1, 1, 1, 2, 1, 1, 1, 1, 1, 1, 1, 1, 1, 1, 1, 1, 1, 2, 1,\n",
       "       1, 1, 1, 1, 1, 1, 1, 1, 1, 2, 2, 1, 2, 2, 2, 1, 2, 1, 2, 1, 2, 2,\n",
       "       2, 2, 2, 2, 2, 2, 2, 2, 2, 2, 1, 2])"
      ]
     },
     "execution_count": 26,
     "metadata": {},
     "output_type": "execute_result"
    }
   ],
   "source": [
    "res_svm.predict(x[test,])      #テストデータの予測結果"
   ]
  },
  {
   "cell_type": "code",
   "execution_count": 27,
   "metadata": {},
   "outputs": [],
   "source": [
    "import mlxtend\n",
    "from mlxtend.plotting import plot_decision_regions"
   ]
  },
  {
   "cell_type": "code",
   "execution_count": 28,
   "metadata": {},
   "outputs": [
    {
     "name": "stderr",
     "output_type": "stream",
     "text": [
      "C:\\ProgramData\\Anaconda3\\lib\\site-packages\\mlxtend\\plotting\\decision_regions.py:249: MatplotlibDeprecationWarning: Passing unsupported keyword arguments to axis() will raise a TypeError in 3.3.\n",
      "  ax.axis(xmin=xx.min(), xmax=xx.max(), y_min=yy.min(), y_max=yy.max())\n"
     ]
    },
    {
     "data": {
      "text/plain": [
       "<matplotlib.axes._subplots.AxesSubplot at 0x177e92a4dd8>"
      ]
     },
     "execution_count": 28,
     "metadata": {},
     "output_type": "execute_result"
    },
    {
     "data": {
      "image/png": "[encoded data removed]",
      "text/plain": [
       "<Figure size 432x288 with 1 Axes>"
      ]
     },
     "metadata": {
      "needs_background": "light"
     },
     "output_type": "display_data"
    }
   ],
   "source": [
    "plot_decision_regions(x,y,clf=res_svm)"
   ]
  },
  {
   "cell_type": "code",
   "execution_count": 29,
   "metadata": {},
   "outputs": [],
   "source": [
    "from sklearn.model_selection import GridSearchCV"
   ]
  },
  {
   "cell_type": "code",
   "execution_count": 30,
   "metadata": {},
   "outputs": [],
   "source": [
    "grid = {'C': [0.1, 1,10, 100, 1000],  'gamma' : [0.5, 1, 2, 3, 4]}"
   ]
  },
  {
   "cell_type": "code",
   "execution_count": 31,
   "metadata": {},
   "outputs": [
    {
     "name": "stderr",
     "output_type": "stream",
     "text": [
      "C:\\ProgramData\\Anaconda3\\lib\\site-packages\\sklearn\\model_selection\\_search.py:813: DeprecationWarning: The default of the `iid` parameter will change from True to False in version 0.22 and will be removed in 0.24. This will change numeric results when test-set sizes are unequal.\n",
      "  DeprecationWarning)\n"
     ]
    },
    {
     "data": {
      "text/plain": [
       "GridSearchCV(cv=10, error_score='raise-deprecating',\n",
       "             estimator=SVC(C=1.0, cache_size=200, class_weight=None, coef0=0.0,\n",
       "                           decision_function_shape='ovr', degree=3,\n",
       "                           gamma='auto_deprecated', kernel='rbf', max_iter=-1,\n",
       "                           probability=False, random_state=None, shrinking=True,\n",
       "                           tol=0.001, verbose=False),\n",
       "             iid='warn', n_jobs=None,\n",
       "             param_grid={'C': [0.1, 1, 10, 100, 1000],\n",
       "                         'gamma': [0.5, 1, 2, 3, 4]},\n",
       "             pre_dispatch='2*n_jobs', refit=True, return_train_score=False,\n",
       "             scoring=None, verbose=0)"
      ]
     },
     "execution_count": 31,
     "metadata": {},
     "output_type": "execute_result"
    }
   ],
   "source": [
    "tune = GridSearchCV(svm.SVC(), grid, cv=10)\n",
    "tune.fit(x[train,],y[train])"
   ]
  },
  {
   "cell_type": "code",
   "execution_count": 32,
   "metadata": {},
   "outputs": [
    {
     "data": {
      "text/plain": [
       "{'C': 1, 'gamma': 0.5}"
      ]
     },
     "execution_count": 32,
     "metadata": {},
     "output_type": "execute_result"
    }
   ],
   "source": [
    "tune.best_params_   #C=1, gamma=0.5が最適だとわかる"
   ]
  },
  {
   "cell_type": "code",
   "execution_count": 33,
   "metadata": {},
   "outputs": [],
   "source": [
    "from sklearn.datasets import load_iris\n",
    "iris = load_iris()\n",
    "iris.target_names\n",
    "x=iris.data\n",
    "y=iris.target\n",
    "train=np.random.choice(150, 120, replace=False)\n",
    "test=np.ones(150,dtype=bool)\n",
    "test[train]=False"
   ]
  },
  {
   "cell_type": "code",
   "execution_count": 34,
   "metadata": {},
   "outputs": [
    {
     "data": {
      "text/plain": [
       "SVC(C=10, cache_size=200, class_weight=None, coef0=0.0,\n",
       "    decision_function_shape='ovr', degree=3, gamma=1, kernel='rbf', max_iter=-1,\n",
       "    probability=False, random_state=None, shrinking=True, tol=0.001,\n",
       "    verbose=False)"
      ]
     },
     "execution_count": 34,
     "metadata": {},
     "output_type": "execute_result"
    }
   ],
   "source": [
    "iris_svm = svm.SVC(kernel=\"rbf\",gamma=1,C=10)\n",
    "iris_svm.fit(x[train,],y[train])"
   ]
  },
  {
   "cell_type": "code",
   "execution_count": 35,
   "metadata": {},
   "outputs": [],
   "source": [
    "# 2章で定義した関数table_count (再掲)\n",
    "def table_count(m,u,v):\n",
    "    n=u.shape[0]\n",
    "    count=np.zeros([m,m])\n",
    "    for i in range(n):\n",
    "        count[int(u[i]),int(v[i])]+=1\n",
    "    return(count)"
   ]
  },
  {
   "cell_type": "code",
   "execution_count": 36,
   "metadata": {
    "scrolled": true
   },
   "outputs": [
    {
     "data": {
      "text/plain": [
       "array([[ 9.,  0.,  0.],\n",
       "       [ 0.,  9.,  1.],\n",
       "       [ 0.,  0., 11.]])"
      ]
     },
     "execution_count": 36,
     "metadata": {},
     "output_type": "execute_result"
    }
   ],
   "source": [
    "y_pre=iris_svm.predict(x[test,])\n",
    "table_count(3,y[test],y_pre)"
   ]
  }
 ],
 "metadata": {
  "kernelspec": {
   "display_name": "Python 3",
   "language": "python",
   "name": "python3"
  },
  "language_info": {
   "codemirror_mode": {
    "name": "ipython",
    "version": 3
   },
   "file_extension": ".py",
   "mimetype": "text/x-python",
   "name": "python",
   "nbconvert_exporter": "python",
   "pygments_lexer": "ipython3",
   "version": "3.8.3"
  }
 },
 "nbformat": 4,
 "nbformat_minor": 2
}
