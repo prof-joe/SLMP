{
 "cells": [
  {
   "cell_type": "markdown",
   "metadata": {},
   "source": [
    "# Chapter 9 Support Vector Machine "
   ]
  },
  {
   "cell_type": "markdown",
   "metadata": {},
   "source": [
    "## 9.1 The Optimum Border"
   ]
  },
  {
   "cell_type": "markdown",
   "metadata": {},
   "source": [
    "## 9.2 Theory of Optimization"
   ]
  },
  {
   "cell_type": "markdown",
   "metadata": {},
   "source": [
    "## 9.3 Support Vector Machine"
   ]
  },
  {
   "cell_type": "code",
   "execution_count": 2,
   "metadata": {},
   "outputs": [],
   "source": [
    "import numpy as np\n",
    "import matplotlib.pyplot as plt\n",
    "%matplotlib inline\n",
    "import scipy\n",
    "from scipy import stats\n",
    "from numpy.random import randn # Gaussian Random Number"
   ]
  },
  {
   "cell_type": "code",
   "execution_count": 4,
   "metadata": {},
   "outputs": [
    {
     "name": "stdout",
     "output_type": "stream",
     "text": [
      "Collecting package metadata (current_repodata.json): ...working... done\n",
      "Solving environment: ...working... done\n",
      "\n",
      "## Package Plan ##\n",
      "\n",
      "  environment location: C:\\Users\\prof-\\anaconda3\n",
      "\n",
      "  added / updated specs:\n",
      "    - cvxopt\n",
      "\n",
      "\n",
      "The following packages will be downloaded:\n",
      "\n",
      "    package                    |            build\n",
      "    ---------------------------|-----------------\n",
      "    cvxopt-1.2.0               |   py38h8a9fdb6_0         848 KB\n",
      "    glpk-4.65                  |    h8ffe710_1004         3.5 MB  conda-forge\n",
      "    gsl-2.4                    |    hfa6e2cd_1004         1.9 MB  conda-forge\n",
      "    ------------------------------------------------------------\n",
      "                                           Total:         6.2 MB\n",
      "\n",
      "The following NEW packages will be INSTALLED:\n",
      "\n",
      "  cvxopt             pkgs/main/win-64::cvxopt-1.2.0-py38h8a9fdb6_0\n",
      "  glpk               conda-forge/win-64::glpk-4.65-h8ffe710_1004\n",
      "  gsl                conda-forge/win-64::gsl-2.4-hfa6e2cd_1004\n",
      "\n",
      "\n",
      "\n",
      "Downloading and Extracting Packages\n",
      "\n",
      "cvxopt-1.2.0         | 848 KB    |            |   0% \n",
      "cvxopt-1.2.0         | 848 KB    | 1          |   2% \n",
      "cvxopt-1.2.0         | 848 KB    | #5         |  15% \n",
      "cvxopt-1.2.0         | 848 KB    | ###7       |  38% \n",
      "cvxopt-1.2.0         | 848 KB    | ######7    |  68% \n",
      "cvxopt-1.2.0         | 848 KB    | ########## | 100% \n",
      "cvxopt-1.2.0         | 848 KB    | ########## | 100% \n",
      "\n",
      "gsl-2.4              | 1.9 MB    |            |   0% \n",
      "gsl-2.4              | 1.9 MB    |            |   1% \n",
      "gsl-2.4              | 1.9 MB    | ####6      |  47% \n",
      "gsl-2.4              | 1.9 MB    | #########2 |  93% \n",
      "gsl-2.4              | 1.9 MB    | ########## | 100% \n",
      "\n",
      "glpk-4.65            | 3.5 MB    |            |   0% \n",
      "glpk-4.65            | 3.5 MB    |            |   0% \n",
      "glpk-4.65            | 3.5 MB    | #####1     |  51% \n",
      "glpk-4.65            | 3.5 MB    | ########1  |  81% \n",
      "glpk-4.65            | 3.5 MB    | ########## | 100% \n",
      "Preparing transaction: ...working... done\n",
      "Verifying transaction: ...working... done\n",
      "Executing transaction: ...working... done\n",
      "\n",
      "Note: you may need to restart the kernel to use updated packages.\n"
     ]
    }
   ],
   "source": [
    "conda install -c conda-forge cvxopt"
   ]
  },
  {
   "cell_type": "code",
   "execution_count": 5,
   "metadata": {},
   "outputs": [],
   "source": [
    "import cvxopt\n",
    "from cvxopt import matrix"
   ]
  },
  {
   "cell_type": "code",
   "execution_count": 7,
   "metadata": {},
   "outputs": [],
   "source": [
    "a=randn(1);b=randn(1)\n",
    "n=100\n",
    "X=randn(n,2)\n",
    "y=np.sign(a*X[:,0]+b*X[:,1]+0.1*randn(n))\n",
    "y=y.reshape(-1,1)  # The shape should be made clear."
   ]
  },
  {
   "cell_type": "code",
   "execution_count": 8,
   "metadata": {},
   "outputs": [],
   "source": [
    "def svm_1(X,y,C):\n",
    "    eps=0.0001\n",
    "    n=X.shape[0]\n",
    "    P=np.zeros((n,n))\n",
    "    for i in range(n):\n",
    "        for j in range(n):\n",
    "            P[i,j]=np.dot(X[i,:],X[j,:])*y[i]*y[j]\n",
    "    # Specify them using the matrix function in the package\n",
    "    P=matrix(P+np.eye(n)*eps)                \n",
    "    A=matrix(-y.T.astype(np.float))\n",
    "    b=matrix(np.array([0]).astype(np.float))\n",
    "    h=matrix(np.array([C]*n+[0]*n).reshape(-1,1).astype(np.float))\n",
    "    G=matrix(np.concatenate([np.diag(np.ones(n)),np.diag(-np.ones(n))]))       \n",
    "    q=matrix(np.array([-1]*n).astype(np.float))\n",
    "    res=cvxopt.solvers.qp(P,q,A=A, b=b,G=G, h=h)    # Execute the solver.\n",
    "    alpha=np.array(res['x'])  # x is the alpha in the text\n",
    "    beta=((alpha*y).T@X).reshape(2,1)\n",
    "    index = (eps < alpha[:, 0]) & (alpha[:, 0] < C - eps)\n",
    "    beta_0=np.mean(y[index]-X[index,:]@beta)\n",
    "    return {'beta':beta, 'beta_0':beta_0}"
   ]
  },
  {
   "cell_type": "code",
   "execution_count": 9,
   "metadata": {},
   "outputs": [
    {
     "data": {
      "text/plain": [
       "<4x2 matrix, tc='d'>"
      ]
     },
     "execution_count": 9,
     "metadata": {},
     "output_type": "execute_result"
    }
   ],
   "source": [
    "n=10\n",
    "matrix(np.concatenate([np.diag(np.ones(2)),np.diag(-np.ones(2))]))"
   ]
  },
  {
   "cell_type": "code",
   "execution_count": 10,
   "metadata": {},
   "outputs": [
    {
     "name": "stdout",
     "output_type": "stream",
     "text": [
      "     pcost       dcost       gap    pres   dres\n",
      " 0: -2.1357e+02 -1.2813e+04  4e+04  1e+00  1e-14\n",
      " 1: -6.1131e+01 -6.3027e+03  9e+03  2e-01  1e-14\n",
      " 2:  2.6757e+01 -8.4467e+02  1e+03  1e-02  2e-14\n",
      " 3: -9.4194e+01 -3.0111e+02  2e+02  2e-03  7e-15\n",
      " 4: -1.3698e+02 -2.3620e+02  1e+02  9e-04  6e-15\n",
      " 5: -1.5679e+02 -2.1537e+02  6e+01  5e-04  6e-15\n",
      " 6: -1.6894e+02 -1.9704e+02  3e+01  2e-04  7e-15\n",
      " 7: -1.7720e+02 -1.8862e+02  1e+01  4e-05  8e-15\n",
      " 8: -1.7934e+02 -1.8475e+02  5e+00  3e-15  8e-15\n",
      " 9: -1.8166e+02 -1.8234e+02  7e-01  2e-15  8e-15\n",
      "10: -1.8188e+02 -1.8211e+02  2e-01  5e-15  8e-15\n",
      "11: -1.8197e+02 -1.8202e+02  5e-02  6e-15  1e-14\n",
      "12: -1.8199e+02 -1.8199e+02  6e-04  2e-15  8e-15\n",
      "13: -1.8199e+02 -1.8199e+02  6e-06  9e-16  1e-14\n",
      "Optimal solution found.\n"
     ]
    },
    {
     "data": {
      "text/plain": [
       "{'beta': array([[5.20286052],\n",
       "        [3.1785283 ]]),\n",
       " 'beta_0': 0.17268089301813397}"
      ]
     },
     "execution_count": 10,
     "metadata": {},
     "output_type": "execute_result"
    },
    {
     "data": {
      "image/png": "[encoded data removed]",
      "text/plain": [
       "<Figure size 432x288 with 1 Axes>"
      ]
     },
     "metadata": {
      "needs_background": "light"
     },
     "output_type": "display_data"
    }
   ],
   "source": [
    "a=randn(1);b=randn(1)\n",
    "n=100\n",
    "X=randn(n,2)\n",
    "y=np.sign(a*X[:,0]+b*X[:,1]+0.1*randn(n))\n",
    "y=y.reshape(-1,1)  # The shape should be made clear.\n",
    "for i in range(n):\n",
    "    if y[i]==1:\n",
    "        plt.scatter(X[i,0],X[i,1],c=\"red\")\n",
    "    else :\n",
    "        plt.scatter(X[i,0],X[i,1],c=\"blue\")\n",
    "res=svm_1(X,y,C=10)\n",
    "def f(x):\n",
    "    return -res['beta_0']/res['beta'][1]-x*res['beta'][0]/res['beta'][1]\n",
    "x_seq=np.arange(-3,3,0.5)\n",
    "plt.plot(x_seq,f(x_seq))\n",
    "res"
   ]
  },
  {
   "cell_type": "markdown",
   "metadata": {},
   "source": [
    "## 9.4 Extension of SVM using kernels"
   ]
  },
  {
   "cell_type": "code",
   "execution_count": 11,
   "metadata": {},
   "outputs": [],
   "source": [
    "def K_linear(x,y):\n",
    "    return x.T@y\n",
    "def K_poly(x,y):\n",
    "    return (1+x.T@y)**2"
   ]
  },
  {
   "cell_type": "code",
   "execution_count": 12,
   "metadata": {},
   "outputs": [],
   "source": [
    "def svm_2(X,y,C,K):\n",
    "    eps=0.0001\n",
    "    n=X.shape[0]\n",
    "    P=np.zeros((n,n))\n",
    "    for i in range(n):\n",
    "        for j in range(n):\n",
    "            P[i,j]=K(X[i,:],X[j,:])*y[i]*y[j]\n",
    "    # Use the matrix function in the package.\n",
    "    P=matrix(P+np.eye(n)*eps)                \n",
    "    A=matrix(-y.T.astype(np.float))\n",
    "    b=matrix(np.array([0]).astype(np.float))\n",
    "    h=matrix(np.array([C]*n+[0]*n).reshape(-1,1).astype(np.float))\n",
    "    G=matrix(np.concatenate([np.diag(np.ones(n)),np.diag(-np.ones(n))]))       \n",
    "    q=matrix(np.array([-1]*n).astype(np.float))\n",
    "    res=cvxopt.solvers.qp(P,q, A=A, b=b,G=G, h=h)\n",
    "    alpha=np.array(res['x'])  # x is the alpha in the text.\n",
    "    beta=((alpha*y).T@X).reshape(2,1)\n",
    "    index = (eps < alpha[:, 0]) & (alpha[:, 0] < C - eps)\n",
    "    beta_0=np.mean(y[index]-X[index,:]@beta)\n",
    "    return {'alpha':alpha, 'beta':beta, 'beta_0':beta_0}"
   ]
  },
  {
   "cell_type": "code",
   "execution_count": 13,
   "metadata": {},
   "outputs": [],
   "source": [
    "# Execution\n",
    "a=3;b=-1\n",
    "n=200\n",
    "X=randn(n,2)\n",
    "y=np.sign(a*X[:,0]+b*X[:,1]**2+0.3*randn(n))\n",
    "y=y.reshape(-1,1)"
   ]
  },
  {
   "cell_type": "code",
   "execution_count": 14,
   "metadata": {},
   "outputs": [],
   "source": [
    "def plot_kernel(K,line): # The parameter line specifies the line variation. \n",
    "    res=svm_2(X,y,1,K)\n",
    "    alpha=res['alpha'][:,0]\n",
    "    beta_0=res['beta_0']\n",
    "    def f(u,v):\n",
    "        S=beta_0\n",
    "        for i in range(X.shape[0]):\n",
    "            S=S+alpha[i]*y[i]*K(X[i,:],[u,v])\n",
    "        return S[0]\n",
    "    uu=np.arange(-2,2,0.1); vv=np.arange(-2,2,0.1); ww=[]\n",
    "    for v in vv:\n",
    "        w=[]\n",
    "        for u in uu:\n",
    "            w.append(f(u,v))\n",
    "        ww.append(w)\n",
    "    plt.contour(uu,vv,ww,levels=0,linestyles=line)"
   ]
  },
  {
   "cell_type": "code",
   "execution_count": 15,
   "metadata": {},
   "outputs": [
    {
     "name": "stdout",
     "output_type": "stream",
     "text": [
      "     pcost       dcost       gap    pres   dres\n",
      " 0: -8.1643e+01 -5.9187e+02  4e+03  4e+00  1e-14\n",
      " 1: -4.9890e+01 -4.1442e+02  8e+02  6e-01  1e-14\n",
      " 2: -2.8759e+01 -1.5214e+02  2e+02  1e-01  8e-15\n",
      " 3: -2.1058e+01 -4.2639e+01  3e+01  2e-02  6e-15\n",
      " 4: -2.4097e+01 -3.1362e+01  9e+00  4e-03  4e-15\n",
      " 5: -2.4819e+01 -2.9954e+01  6e+00  2e-03  3e-15\n",
      " 6: -2.5825e+01 -2.7897e+01  2e+00  5e-04  4e-15\n",
      " 7: -2.6452e+01 -2.6974e+01  5e-01  3e-05  4e-15\n",
      " 8: -2.6670e+01 -2.6686e+01  2e-02  1e-06  4e-15\n",
      " 9: -2.6677e+01 -2.6678e+01  4e-04  2e-08  4e-15\n",
      "10: -2.6677e+01 -2.6677e+01  4e-06  2e-10  3e-15\n",
      "Optimal solution found.\n",
      "     pcost       dcost       gap    pres   dres\n",
      " 0: -8.9104e+01 -5.7550e+02  3e+03  3e+00  3e-15\n",
      " 1: -5.5627e+01 -3.9967e+02  7e+02  5e-01  2e-15\n",
      " 2: -3.9915e+01 -1.3404e+02  1e+02  6e-02  8e-15\n",
      " 3: -4.5581e+01 -6.6614e+01  2e+01  1e-02  3e-15\n",
      " 4: -4.9691e+01 -5.8699e+01  1e+01  4e-03  2e-15\n",
      " 5: -5.1799e+01 -5.4875e+01  3e+00  9e-04  2e-15\n",
      " 6: -5.2627e+01 -5.3543e+01  1e+00  2e-04  1e-15\n",
      " 7: -5.2893e+01 -5.3194e+01  3e-01  5e-05  1e-15\n",
      " 8: -5.2987e+01 -5.3074e+01  9e-02  8e-06  1e-15\n",
      " 9: -5.3024e+01 -5.3033e+01  9e-03  6e-07  2e-15\n",
      "10: -5.3028e+01 -5.3028e+01  9e-05  6e-09  2e-15\n",
      "11: -5.3028e+01 -5.3028e+01  9e-07  6e-11  2e-15\n",
      "Optimal solution found.\n"
     ]
    },
    {
     "data": {
      "image/png": "[encoded data removed]",
      "text/plain": [
       "<Figure size 432x288 with 1 Axes>"
      ]
     },
     "metadata": {
      "needs_background": "light"
     },
     "output_type": "display_data"
    }
   ],
   "source": [
    "for i in range(n):\n",
    "    if y[i]==1:\n",
    "        plt.scatter(X[i,0],X[i,1],c=\"red\")\n",
    "    else:\n",
    "        plt.scatter(X[i,0],X[i,1],c=\"blue\")\n",
    "plot_kernel(K_poly,line=\"dashed\")\n",
    "plot_kernel(K_linear,line=\"solid\")"
   ]
  },
  {
   "cell_type": "code",
   "execution_count": 17,
   "metadata": {},
   "outputs": [],
   "source": [
    "import sklearn\n",
    "from sklearn import svm"
   ]
  },
  {
   "cell_type": "code",
   "execution_count": 18,
   "metadata": {},
   "outputs": [],
   "source": [
    "x=randn(200,2)\n",
    "x[0:100,]=x[0:100,]+2\n",
    "x[100:150,]=x[100:150,]-2\n",
    "y=np.concatenate(([1 for i in range(150)],[2 for i in range(50)]))"
   ]
  },
  {
   "cell_type": "code",
   "execution_count": 19,
   "metadata": {},
   "outputs": [],
   "source": [
    "train=np.random.choice(200, 100, replace=False)\n",
    "test=list(set(range(200))-set(train))\n",
    "res_svm = svm.SVC(kernel=\"rbf\",gamma=1,C=100)  # SVM without tuning"
   ]
  },
  {
   "cell_type": "code",
   "execution_count": 20,
   "metadata": {},
   "outputs": [
    {
     "data": {
      "text/plain": [
       "SVC(C=100, gamma=1)"
      ]
     },
     "execution_count": 20,
     "metadata": {},
     "output_type": "execute_result"
    }
   ],
   "source": [
    "res_svm.fit(x[train,],y[train])  # execution"
   ]
  },
  {
   "cell_type": "code",
   "execution_count": 21,
   "metadata": {},
   "outputs": [
    {
     "data": {
      "text/plain": [
       "array([1, 1, 1, 1, 1, 1, 1, 1, 1, 1, 1, 1, 1, 1, 1, 1, 1, 1, 1, 1, 1, 1,\n",
       "       1, 1, 1, 1, 1, 1, 1, 1, 1, 1, 1, 1, 1, 1, 1, 1, 1, 1, 1, 1, 1, 1,\n",
       "       1, 1, 1, 2, 1, 1, 1, 2, 1, 1, 2, 1, 1, 1, 1, 2, 1, 1, 1, 2, 1, 1,\n",
       "       1, 1, 1, 1, 2, 1, 1, 1, 1, 1, 1, 1, 1, 1, 2, 2, 2, 1, 1, 2, 1, 2,\n",
       "       2, 2, 2, 2, 2, 1, 1, 1, 2, 2, 2, 1])"
      ]
     },
     "execution_count": 21,
     "metadata": {},
     "output_type": "execute_result"
    }
   ],
   "source": [
    "res_svm.predict(x[test,])      # The prediction for the test data"
   ]
  },
  {
   "cell_type": "code",
   "execution_count": 23,
   "metadata": {},
   "outputs": [
    {
     "name": "stdout",
     "output_type": "stream",
     "text": [
      "Collecting package metadata (current_repodata.json): ...working... done\n",
      "Solving environment: ...working... done\n",
      "\n",
      "## Package Plan ##\n",
      "\n",
      "  environment location: C:\\Users\\prof-\\anaconda3\n",
      "\n",
      "  added / updated specs:\n",
      "    - mlxtend\n",
      "\n",
      "\n",
      "The following packages will be downloaded:\n",
      "\n",
      "    package                    |            build\n",
      "    ---------------------------|-----------------\n",
      "    mlxtend-0.18.0             |     pyhd3deb0d_0         1.2 MB  conda-forge\n",
      "    ------------------------------------------------------------\n",
      "                                           Total:         1.2 MB\n",
      "\n",
      "The following NEW packages will be INSTALLED:\n",
      "\n",
      "  mlxtend            conda-forge/noarch::mlxtend-0.18.0-pyhd3deb0d_0\n",
      "\n",
      "\n",
      "\n",
      "Downloading and Extracting Packages\n",
      "\n",
      "mlxtend-0.18.0       | 1.2 MB    |            |   0% \n",
      "mlxtend-0.18.0       | 1.2 MB    | 1          |   1% \n",
      "mlxtend-0.18.0       | 1.2 MB    | #####5     |  55% \n",
      "mlxtend-0.18.0       | 1.2 MB    | ########## | 100% \n",
      "mlxtend-0.18.0       | 1.2 MB    | ########## | 100% \n",
      "Preparing transaction: ...working... done\n",
      "Verifying transaction: ...working... done\n",
      "Executing transaction: ...working... done\n",
      "\n",
      "Note: you may need to restart the kernel to use updated packages.\n"
     ]
    }
   ],
   "source": [
    "conda install -c conda-forge mlxtend"
   ]
  },
  {
   "cell_type": "code",
   "execution_count": 24,
   "metadata": {},
   "outputs": [],
   "source": [
    "import mlxtend\n",
    "from mlxtend.plotting import plot_decision_regions"
   ]
  },
  {
   "cell_type": "code",
   "execution_count": 25,
   "metadata": {},
   "outputs": [
    {
     "data": {
      "text/plain": [
       "<AxesSubplot:>"
      ]
     },
     "execution_count": 25,
     "metadata": {},
     "output_type": "execute_result"
    },
    {
     "data": {
      "image/png": "[encoded data removed]",
      "text/plain": [
       "<Figure size 432x288 with 1 Axes>"
      ]
     },
     "metadata": {
      "needs_background": "light"
     },
     "output_type": "display_data"
    }
   ],
   "source": [
    "plot_decision_regions(x,y,clf=res_svm)"
   ]
  },
  {
   "cell_type": "code",
   "execution_count": 26,
   "metadata": {},
   "outputs": [],
   "source": [
    "from sklearn.model_selection import GridSearchCV"
   ]
  },
  {
   "cell_type": "code",
   "execution_count": 27,
   "metadata": {},
   "outputs": [],
   "source": [
    "grid = {'C': [0.1, 1,10, 100, 1000],  'gamma' : [0.5, 1, 2, 3, 4]}"
   ]
  },
  {
   "cell_type": "code",
   "execution_count": 28,
   "metadata": {},
   "outputs": [
    {
     "data": {
      "text/plain": [
       "GridSearchCV(cv=10, estimator=SVC(),\n",
       "             param_grid={'C': [0.1, 1, 10, 100, 1000],\n",
       "                         'gamma': [0.5, 1, 2, 3, 4]})"
      ]
     },
     "execution_count": 28,
     "metadata": {},
     "output_type": "execute_result"
    }
   ],
   "source": [
    "tune = GridSearchCV(svm.SVC(), grid, cv=10)\n",
    "tune.fit(x[train,],y[train])"
   ]
  },
  {
   "cell_type": "code",
   "execution_count": 29,
   "metadata": {},
   "outputs": [
    {
     "data": {
      "text/plain": [
       "{'C': 10, 'gamma': 0.5}"
      ]
     },
     "execution_count": 29,
     "metadata": {},
     "output_type": "execute_result"
    }
   ],
   "source": [
    "tune.best_params_   #C=1, gamma=0.5 seems to be the optimum"
   ]
  },
  {
   "cell_type": "code",
   "execution_count": 30,
   "metadata": {},
   "outputs": [],
   "source": [
    "from sklearn.datasets import load_iris\n",
    "iris = load_iris()\n",
    "iris.target_names\n",
    "x=iris.data\n",
    "y=iris.target\n",
    "train=np.random.choice(150, 120, replace=False)\n",
    "test=np.ones(150,dtype=bool)\n",
    "test[train]=False"
   ]
  },
  {
   "cell_type": "code",
   "execution_count": 31,
   "metadata": {},
   "outputs": [
    {
     "data": {
      "text/plain": [
       "SVC(C=10, gamma=1)"
      ]
     },
     "execution_count": 31,
     "metadata": {},
     "output_type": "execute_result"
    }
   ],
   "source": [
    "iris_svm = svm.SVC(kernel=\"rbf\",gamma=1,C=10)\n",
    "iris_svm.fit(x[train,],y[train])"
   ]
  },
  {
   "cell_type": "code",
   "execution_count": 32,
   "metadata": {},
   "outputs": [],
   "source": [
    "# table_count defined in Chapter 3\n",
    "def table_count(m,u,v):\n",
    "    n=u.shape[0]\n",
    "    count=np.zeros([m,m])\n",
    "    for i in range(n):\n",
    "        count[int(u[i]),int(v[i])]+=1\n",
    "    return(count)"
   ]
  },
  {
   "cell_type": "code",
   "execution_count": 33,
   "metadata": {
    "scrolled": true
   },
   "outputs": [
    {
     "data": {
      "text/plain": [
       "array([[10.,  0.,  0.],\n",
       "       [ 0.,  8.,  1.],\n",
       "       [ 0.,  2.,  9.]])"
      ]
     },
     "execution_count": 33,
     "metadata": {},
     "output_type": "execute_result"
    }
   ],
   "source": [
    "y_pre=iris_svm.predict(x[test,])\n",
    "table_count(3,y[test],y_pre)"
   ]
  }
 ],
 "metadata": {
  "kernelspec": {
   "display_name": "Python 3",
   "language": "python",
   "name": "python3"
  },
  "language_info": {
   "codemirror_mode": {
    "name": "ipython",
    "version": 3
   },
   "file_extension": ".py",
   "mimetype": "text/x-python",
   "name": "python",
   "nbconvert_exporter": "python",
   "pygments_lexer": "ipython3",
   "version": "3.8.3"
  }
 },
 "nbformat": 4,
 "nbformat_minor": 2
}
