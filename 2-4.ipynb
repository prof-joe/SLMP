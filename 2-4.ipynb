{
 "cells": [
  {
   "cell_type": "markdown",
   "metadata": {
    "colab_type": "text",
    "id": "uBLrtV3fB-Br"
   },
   "source": [
    "# 第4章 情報量基準"
   ]
  },
  {
   "cell_type": "markdown",
   "metadata": {
    "colab_type": "text",
    "id": "aLlQv0y4B-Bt"
   },
   "source": [
    "## 4.1 情報量規準"
   ]
  },
  {
   "cell_type": "code",
   "execution_count": 2,
   "metadata": {
    "colab": {
     "base_uri": "https://localhost:8080/",
     "height": 69
    },
    "colab_type": "code",
    "id": "T3QLDaDDB-Bu",
    "outputId": "6b44f716-7b51-4e92-aa9c-9022f604567d"
   },
   "outputs": [
    {
     "name": "stderr",
     "output_type": "stream",
     "text": [
      "/usr/local/lib/python3.6/dist-packages/japanize_matplotlib/japanize_matplotlib.py:15: MatplotlibDeprecationWarning: \n",
      "The createFontList function was deprecated in Matplotlib 3.2 and will be removed two minor releases later. Use FontManager.addfont instead.\n",
      "  font_list = font_manager.createFontList(font_files)\n"
     ]
    }
   ],
   "source": [
    "import numpy as np\n",
    "import matplotlib.pyplot as plt\n",
    "%matplotlib inline\n",
    "import japanize_matplotlib\n",
    "import scipy\n",
    "from scipy import stats\n",
    "from numpy.random import randn"
   ]
  },
  {
   "cell_type": "code",
   "execution_count": 1,
   "metadata": {
    "colab": {
     "base_uri": "https://localhost:8080/",
     "height": 332
    },
    "colab_type": "code",
    "id": "0mxmXkr7CBFD",
    "outputId": "e6e11ca6-127a-42c2-e8ad-3c2cbb2e0752"
   },
   "outputs": [
    {
     "name": "stdout",
     "output_type": "stream",
     "text": [
      "Collecting japanize_matplotlib\n",
      "\u001b[?25l  Downloading https://files.pythonhosted.org/packages/2c/aa/3b24d54bd02e25d63c8f23bb316694e1aad7ffdc07ba296e7c9be2f6837d/japanize-matplotlib-1.1.2.tar.gz (4.1MB)\n",
      "\u001b[K     |████████████████████████████████| 4.1MB 2.7MB/s \n",
      "\u001b[?25hRequirement already satisfied: matplotlib in /usr/local/lib/python3.6/dist-packages (from japanize_matplotlib) (3.2.2)\n",
      "Requirement already satisfied: cycler>=0.10 in /usr/local/lib/python3.6/dist-packages (from matplotlib->japanize_matplotlib) (0.10.0)\n",
      "Requirement already satisfied: numpy>=1.11 in /usr/local/lib/python3.6/dist-packages (from matplotlib->japanize_matplotlib) (1.18.5)\n",
      "Requirement already satisfied: pyparsing!=2.0.4,!=2.1.2,!=2.1.6,>=2.0.1 in /usr/local/lib/python3.6/dist-packages (from matplotlib->japanize_matplotlib) (2.4.7)\n",
      "Requirement already satisfied: python-dateutil>=2.1 in /usr/local/lib/python3.6/dist-packages (from matplotlib->japanize_matplotlib) (2.8.1)\n",
      "Requirement already satisfied: kiwisolver>=1.0.1 in /usr/local/lib/python3.6/dist-packages (from matplotlib->japanize_matplotlib) (1.2.0)\n",
      "Requirement already satisfied: six in /usr/local/lib/python3.6/dist-packages (from cycler>=0.10->matplotlib->japanize_matplotlib) (1.15.0)\n",
      "Building wheels for collected packages: japanize-matplotlib\n",
      "  Building wheel for japanize-matplotlib (setup.py) ... \u001b[?25l\u001b[?25hdone\n",
      "  Created wheel for japanize-matplotlib: filename=japanize_matplotlib-1.1.2-cp36-none-any.whl size=4120191 sha256=66187622ca32983e53f08ac66d2dfe6fcff2ef8ca75075b009ff62c0acf4fae1\n",
      "  Stored in directory: /root/.cache/pip/wheels/9c/f9/fc/bc052ce743a03f94ccc7fda73d1d389ce98216c6ffaaf65afc\n",
      "Successfully built japanize-matplotlib\n",
      "Installing collected packages: japanize-matplotlib\n",
      "Successfully installed japanize-matplotlib-1.1.2\n"
     ]
    }
   ],
   "source": [
    "pip install japanize_matplotlib"
   ]
  },
  {
   "cell_type": "code",
   "execution_count": 3,
   "metadata": {
    "colab": {},
    "colab_type": "code",
    "id": "d3rg5wT-B-B1"
   },
   "outputs": [],
   "source": [
    "from sklearn.linear_model import LinearRegression\n",
    "import itertools  # 組合わせを列挙する"
   ]
  },
  {
   "cell_type": "code",
   "execution_count": 4,
   "metadata": {
    "colab": {},
    "colab_type": "code",
    "id": "HoT1Xo-4B-B6"
   },
   "outputs": [],
   "source": [
    "res = LinearRegression()"
   ]
  },
  {
   "cell_type": "code",
   "execution_count": 5,
   "metadata": {
    "colab": {},
    "colab_type": "code",
    "id": "V3-MD0pfB-CA"
   },
   "outputs": [],
   "source": [
    "def RSS_min(X,y,T):\n",
    "    S_min=np.inf\n",
    "    m=len(T)\n",
    "    for j in range(m):\n",
    "        q=T[j]\n",
    "        res.fit(X[:,q],y)\n",
    "        y_hat=res.predict(X[:,q])\n",
    "        S=np.linalg.norm(y_hat-y)**2\n",
    "        if S<S_min:\n",
    "            S_min=S\n",
    "            set_q=q\n",
    "    return(S_min, set_q)"
   ]
  },
  {
   "cell_type": "code",
   "execution_count": 6,
   "metadata": {
    "colab": {},
    "colab_type": "code",
    "id": "mEotWhgcB-CF"
   },
   "outputs": [],
   "source": [
    "from sklearn.datasets import load_boston"
   ]
  },
  {
   "cell_type": "code",
   "execution_count": 7,
   "metadata": {
    "colab": {},
    "colab_type": "code",
    "id": "E0c404m5B-CP"
   },
   "outputs": [],
   "source": [
    "boston = load_boston()\n",
    "X=boston.data[:,[0,2,4,5,6,7,9,10,11,12]]\n",
    "y=boston.target"
   ]
  },
  {
   "cell_type": "code",
   "execution_count": 8,
   "metadata": {
    "colab": {
     "base_uri": "https://localhost:8080/",
     "height": 35
    },
    "colab_type": "code",
    "id": "OXlWMiHAB-CT",
    "outputId": "309a8a07-6f81-4d68-bfce-4b594fad89c9"
   },
   "outputs": [
    {
     "name": "stdout",
     "output_type": "stream",
     "text": [
      "1619.787608556615 (0, 2, 3, 5, 7, 8, 9)\n"
     ]
    }
   ],
   "source": [
    "n,p=X.shape\n",
    "AIC_min=np.inf\n",
    "for k in range(1,p+1,1):\n",
    "    T=list(itertools.combinations(range(p), k))\n",
    "    # p個からk個を選ぶ組合わせを各列にもつ\n",
    "    S_min, set_q=RSS_min(X,y,T)\n",
    "    AIC=n*np.log(S_min/n)+2*k  ##\n",
    "    if AIC<AIC_min:\n",
    "        AIC_min=AIC\n",
    "        set_min=set_q\n",
    "print(AIC_min,set_min)"
   ]
  },
  {
   "cell_type": "code",
   "execution_count": 9,
   "metadata": {
    "colab": {},
    "colab_type": "code",
    "id": "4iRrC8TxB-Cc"
   },
   "outputs": [],
   "source": [
    "y_bar=np.mean(y)\n",
    "TSS=np.linalg.norm(y-y_bar)**2"
   ]
  },
  {
   "cell_type": "code",
   "execution_count": 10,
   "metadata": {
    "colab": {
     "base_uri": "https://localhost:8080/",
     "height": 35
    },
    "colab_type": "code",
    "id": "H0hXfapUB-Ch",
    "outputId": "50ad5572-5e54-417e-c19b-40dcf7793292"
   },
   "outputs": [
    {
     "name": "stdout",
     "output_type": "stream",
     "text": [
      "0.7130213433266737 (0, 2, 3, 5, 7, 8, 9)\n"
     ]
    }
   ],
   "source": [
    "D_max=-np.inf\n",
    "for k in range(1,p+1,1):\n",
    "    T=list(itertools.combinations(range(p), k))\n",
    "    S_min, set_q=RSS_min(X,y,T)\n",
    "    D=1-(S_min/(n-k-1))/(TSS/(n-1))\n",
    "    if D>D_max:\n",
    "        D_max=D\n",
    "        set_max=set_q\n",
    "print(D_max,set_max)"
   ]
  },
  {
   "cell_type": "code",
   "execution_count": 11,
   "metadata": {
    "colab": {},
    "colab_type": "code",
    "id": "oEhowEYmB-Cl"
   },
   "outputs": [],
   "source": [
    "def IC(X,y,k):\n",
    "    n,p=X.shape\n",
    "    T=list(itertools.combinations(range(p), k))\n",
    "    S, set_q=RSS_min(X,y,T)\n",
    "    AIC=n*np.log(S/n)+2*k\n",
    "    BIC=n*np.log(S/n)+k*np.log(n)\n",
    "    return {'AIC':AIC, 'BIC':BIC}"
   ]
  },
  {
   "cell_type": "code",
   "execution_count": 12,
   "metadata": {
    "colab": {},
    "colab_type": "code",
    "id": "_U8mIKRoB-Cp"
   },
   "outputs": [],
   "source": [
    "AIC_seq=[]; BIC_seq=[]\n",
    "for k in range(1,p+1,1):\n",
    "    AIC_seq.append(IC(X,y,k)['AIC'])\n",
    "    BIC_seq.append(IC(X,y,k)['BIC']) "
   ]
  },
  {
   "cell_type": "code",
   "execution_count": 13,
   "metadata": {
    "colab": {},
    "colab_type": "code",
    "id": "aDqmjW_AB-Cu"
   },
   "outputs": [],
   "source": [
    "x_seq=np.arange(1,p+1,1)"
   ]
  },
  {
   "cell_type": "code",
   "execution_count": null,
   "metadata": {
    "colab": {},
    "colab_type": "code",
    "id": "mrr4XViHB-Cy",
    "outputId": "15077e53-54f7-4ae0-97b0-278ac82eb044"
   },
   "outputs": [
    {
     "data": {
      "text/plain": [
       "<matplotlib.legend.Legend at 0x237146dfe80>"
      ]
     },
     "execution_count": 22,
     "metadata": {
      "tags": []
     },
     "output_type": "execute_result"
    },
    {
     "data": {
      "image/png": "[encoded data removed]",
      "text/plain": [
       "<Figure size 432x288 with 1 Axes>"
      ]
     },
     "metadata": {
      "needs_background": "light",
      "tags": []
     },
     "output_type": "display_data"
    }
   ],
   "source": [
    "plt.plot(x_seq,AIC_seq,c=\"red\",label=\"AIC\")\n",
    "plt.plot(x_seq,BIC_seq,c=\"blue\",label=\"BIC\")\n",
    "plt.xlabel(\"変数の個数\")\n",
    "plt.ylabel(\"AIC/BICの値\")\n",
    "plt.title(\"変数の個数とAICとBICの値の変化\")\n",
    "plt.legend()"
   ]
  },
  {
   "cell_type": "markdown",
   "metadata": {
    "colab_type": "text",
    "id": "f78qcjRVB-C1"
   },
   "source": [
    "## 4.2 有効推定量とFisher情報量行列"
   ]
  },
  {
   "cell_type": "markdown",
   "metadata": {
    "colab_type": "text",
    "id": "fwAxJje9B-C2"
   },
   "source": [
    "## 4.3 Kullback-Leibler 情報量"
   ]
  },
  {
   "cell_type": "markdown",
   "metadata": {
    "colab_type": "text",
    "id": "Lr4o5w7oB-C3"
   },
   "source": [
    "## 4.4 赤池の情報量規準(AIC)の導出"
   ]
  },
  {
   "cell_type": "code",
   "execution_count": null,
   "metadata": {
    "colab": {},
    "colab_type": "code",
    "id": "pmQHw-wEB-C4"
   },
   "outputs": [],
   "source": []
  }
 ],
 "metadata": {
  "colab": {
   "name": "2-4.ipynb",
   "provenance": []
  },
  "kernelspec": {
   "display_name": "Python 3",
   "language": "python",
   "name": "python3"
  },
  "language_info": {
   "codemirror_mode": {
    "name": "ipython",
    "version": 3
   },
   "file_extension": ".py",
   "mimetype": "text/x-python",
   "name": "python",
   "nbconvert_exporter": "python",
   "pygments_lexer": "ipython3",
   "version": "3.8.3"
  }
 },
 "nbformat": 4,
 "nbformat_minor": 1
}
