{
 "cells": [
  {
   "cell_type": "markdown",
   "metadata": {
    "colab_type": "text",
    "id": "uBLrtV3fB-Br"
   },
   "source": [
    "# Chapter 5 Information Criteria"
   ]
  },
  {
   "cell_type": "markdown",
   "metadata": {
    "colab_type": "text",
    "id": "aLlQv0y4B-Bt"
   },
   "source": [
    "## 5.1 Information Criteria"
   ]
  },
  {
   "cell_type": "code",
   "execution_count": 1,
   "metadata": {
    "colab": {
     "base_uri": "https://localhost:8080/",
     "height": 69
    },
    "colab_type": "code",
    "id": "T3QLDaDDB-Bu",
    "outputId": "6b44f716-7b51-4e92-aa9c-9022f604567d"
   },
   "outputs": [],
   "source": [
    "import numpy as np\n",
    "import matplotlib.pyplot as plt\n",
    "%matplotlib inline\n",
    "import scipy\n",
    "from scipy import stats\n",
    "from numpy.random import randn"
   ]
  },
  {
   "cell_type": "code",
   "execution_count": 2,
   "metadata": {
    "colab": {},
    "colab_type": "code",
    "id": "d3rg5wT-B-B1"
   },
   "outputs": [],
   "source": [
    "from sklearn.linear_model import LinearRegression\n",
    "import itertools  # enumerate the combination"
   ]
  },
  {
   "cell_type": "code",
   "execution_count": 3,
   "metadata": {
    "colab": {},
    "colab_type": "code",
    "id": "HoT1Xo-4B-B6"
   },
   "outputs": [],
   "source": [
    "res = LinearRegression()"
   ]
  },
  {
   "cell_type": "code",
   "execution_count": 4,
   "metadata": {
    "colab": {},
    "colab_type": "code",
    "id": "V3-MD0pfB-CA"
   },
   "outputs": [],
   "source": [
    "def RSS_min(X,y,T):\n",
    "    S_min=np.inf\n",
    "    m=len(T)\n",
    "    for j in range(m):\n",
    "        q=T[j]\n",
    "        res.fit(X[:,q],y)\n",
    "        y_hat=res.predict(X[:,q])\n",
    "        S=np.linalg.norm(y_hat-y)**2\n",
    "        if S<S_min:\n",
    "            S_min=S\n",
    "            set_q=q\n",
    "    return(S_min, set_q)"
   ]
  },
  {
   "cell_type": "code",
   "execution_count": 5,
   "metadata": {
    "colab": {},
    "colab_type": "code",
    "id": "mEotWhgcB-CF"
   },
   "outputs": [],
   "source": [
    "from sklearn.datasets import load_boston"
   ]
  },
  {
   "cell_type": "code",
   "execution_count": 6,
   "metadata": {
    "colab": {},
    "colab_type": "code",
    "id": "E0c404m5B-CP"
   },
   "outputs": [],
   "source": [
    "boston = load_boston()\n",
    "X=boston.data[:,[0,2,4,5,6,7,9,10,11,12]]\n",
    "y=boston.target"
   ]
  },
  {
   "cell_type": "code",
   "execution_count": 7,
   "metadata": {
    "colab": {
     "base_uri": "https://localhost:8080/",
     "height": 35
    },
    "colab_type": "code",
    "id": "OXlWMiHAB-CT",
    "outputId": "309a8a07-6f81-4d68-bfce-4b594fad89c9"
   },
   "outputs": [
    {
     "name": "stdout",
     "output_type": "stream",
     "text": [
      "1619.7876085566147 (0, 2, 3, 5, 7, 8, 9)\n"
     ]
    }
   ],
   "source": [
    "n,p=X.shape\n",
    "AIC_min=np.inf\n",
    "for k in range(1,p+1,1):\n",
    "    T=list(itertools.combinations(range(p), k))\n",
    "    # each column consists of the combinations (k out of p)\n",
    "    S_min, set_q=RSS_min(X,y,T)\n",
    "    AIC=n*np.log(S_min/n)+2*k  ##\n",
    "    if AIC<AIC_min:\n",
    "        AIC_min=AIC\n",
    "        set_min=set_q\n",
    "print(AIC_min,set_min)"
   ]
  },
  {
   "cell_type": "code",
   "execution_count": 8,
   "metadata": {
    "colab": {},
    "colab_type": "code",
    "id": "4iRrC8TxB-Cc"
   },
   "outputs": [],
   "source": [
    "y_bar=np.mean(y)\n",
    "TSS=np.linalg.norm(y-y_bar)**2"
   ]
  },
  {
   "cell_type": "code",
   "execution_count": 9,
   "metadata": {
    "colab": {
     "base_uri": "https://localhost:8080/",
     "height": 35
    },
    "colab_type": "code",
    "id": "H0hXfapUB-Ch",
    "outputId": "50ad5572-5e54-417e-c19b-40dcf7793292"
   },
   "outputs": [
    {
     "name": "stdout",
     "output_type": "stream",
     "text": [
      "0.7130213433266738 (0, 2, 3, 5, 7, 8, 9)\n"
     ]
    }
   ],
   "source": [
    "D_max=-np.inf\n",
    "for k in range(1,p+1,1):\n",
    "    T=list(itertools.combinations(range(p), k))\n",
    "    S_min, set_q=RSS_min(X,y,T)\n",
    "    D=1-(S_min/(n-k-1))/(TSS/(n-1))\n",
    "    if D>D_max:\n",
    "        D_max=D\n",
    "        set_max=set_q\n",
    "print(D_max,set_max)"
   ]
  },
  {
   "cell_type": "code",
   "execution_count": 10,
   "metadata": {
    "colab": {},
    "colab_type": "code",
    "id": "oEhowEYmB-Cl"
   },
   "outputs": [],
   "source": [
    "def IC(X,y,k):\n",
    "    n,p=X.shape\n",
    "    T=list(itertools.combinations(range(p), k))\n",
    "    S, set_q=RSS_min(X,y,T)\n",
    "    AIC=n*np.log(S/n)+2*k\n",
    "    BIC=n*np.log(S/n)+k*np.log(n)\n",
    "    return {'AIC':AIC, 'BIC':BIC}"
   ]
  },
  {
   "cell_type": "code",
   "execution_count": 11,
   "metadata": {
    "colab": {},
    "colab_type": "code",
    "id": "_U8mIKRoB-Cp"
   },
   "outputs": [],
   "source": [
    "AIC_seq=[]; BIC_seq=[]\n",
    "for k in range(1,p+1,1):\n",
    "    AIC_seq.append(IC(X,y,k)['AIC'])\n",
    "    BIC_seq.append(IC(X,y,k)['BIC']) "
   ]
  },
  {
   "cell_type": "code",
   "execution_count": 12,
   "metadata": {
    "colab": {},
    "colab_type": "code",
    "id": "aDqmjW_AB-Cu"
   },
   "outputs": [],
   "source": [
    "x_seq=np.arange(1,p+1,1)"
   ]
  },
  {
   "cell_type": "code",
   "execution_count": 13,
   "metadata": {
    "colab": {},
    "colab_type": "code",
    "id": "mrr4XViHB-Cy",
    "outputId": "15077e53-54f7-4ae0-97b0-278ac82eb044"
   },
   "outputs": [
    {
     "data": {
      "text/plain": [
       "<matplotlib.legend.Legend at 0x20e93b8a460>"
      ]
     },
     "execution_count": 13,
     "metadata": {},
     "output_type": "execute_result"
    },
    {
     "data": {
      "image/png": "[encoded data removed]",
      "text/plain": [
       "<Figure size 432x288 with 1 Axes>"
      ]
     },
     "metadata": {
      "needs_background": "light"
     },
     "output_type": "display_data"
    }
   ],
   "source": [
    "plt.plot(x_seq,AIC_seq,c=\"red\",label=\"AIC\")\n",
    "plt.plot(x_seq,BIC_seq,c=\"blue\",label=\"BIC\")\n",
    "plt.xlabel(\"The number of variables\")\n",
    "plt.ylabel(\"AIC/BIC values\")\n",
    "plt.title(\"AIC/BIC variables when the number of variables increases.\")\n",
    "plt.legend()"
   ]
  },
  {
   "cell_type": "markdown",
   "metadata": {
    "colab_type": "text",
    "id": "f78qcjRVB-C1"
   },
   "source": [
    "## 5.2  Efficient Estimator and Fisher Information Matrix"
   ]
  },
  {
   "cell_type": "markdown",
   "metadata": {
    "colab_type": "text",
    "id": "fwAxJje9B-C2"
   },
   "source": [
    "## 5.3 Kullback-Leibler Divergence"
   ]
  },
  {
   "cell_type": "markdown",
   "metadata": {
    "colab_type": "text",
    "id": "Lr4o5w7oB-C3"
   },
   "source": [
    "## 5.4 Derivation of Akaike's Information Criterion (AIC)"
   ]
  }
 ],
 "metadata": {
  "colab": {
   "name": "2-4.ipynb",
   "provenance": []
  },
  "kernelspec": {
   "display_name": "Python 3",
   "language": "python",
   "name": "python3"
  },
  "language_info": {
   "codemirror_mode": {
    "name": "ipython",
    "version": 3
   },
   "file_extension": ".py",
   "mimetype": "text/x-python",
   "name": "python",
   "nbconvert_exporter": "python",
   "pygments_lexer": "ipython3",
   "version": "3.8.3"
  }
 },
 "nbformat": 4,
 "nbformat_minor": 1
}
