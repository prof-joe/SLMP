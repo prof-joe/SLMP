{
 "cells": [
  {
   "cell_type": "markdown",
   "metadata": {
    "colab_type": "text",
    "id": "oWwD5vobOQzs"
   },
   "source": [
    "# 第3章 リサンプリング"
   ]
  },
  {
   "cell_type": "markdown",
   "metadata": {
    "colab_type": "text",
    "id": "-qFaRlQWOQzy"
   },
   "source": [
    "## 3.1  クロスバリデーション"
   ]
  },
  {
   "cell_type": "code",
   "execution_count": 5,
   "metadata": {
    "colab": {
     "base_uri": "https://localhost:8080/",
     "height": 89
    },
    "colab_type": "code",
    "id": "Cqkv6HS-OQz2",
    "outputId": "2b9ead67-8e14-409c-f4d5-096a16828be1"
   },
   "outputs": [
    {
     "name": "stderr",
     "output_type": "stream",
     "text": [
      "/usr/local/lib/python3.6/dist-packages/japanize_matplotlib/japanize_matplotlib.py:15: MatplotlibDeprecationWarning: \n",
      "The createFontList function was deprecated in Matplotlib 3.2 and will be removed two minor releases later. Use FontManager.addfont instead.\n",
      "  font_list = font_manager.createFontList(font_files)\n"
     ]
    }
   ],
   "source": [
    "import numpy as np\n",
    "import matplotlib.pyplot as plt\n",
    "%matplotlib inline\n",
    "import japanize_matplotlib\n",
    "import scipy\n",
    "from scipy import stats\n",
    "from numpy.random import randn"
   ]
  },
  {
   "cell_type": "code",
   "execution_count": 6,
   "metadata": {
    "colab": {
     "base_uri": "https://localhost:8080/",
     "height": 176
    },
    "colab_type": "code",
    "id": "SAPDQxRFPhoy",
    "outputId": "0fc25c18-6b23-4a7e-a717-b0e66bf56fbe"
   },
   "outputs": [
    {
     "name": "stdout",
     "output_type": "stream",
     "text": [
      "Requirement already satisfied: japanize_matplotlib in /usr/local/lib/python3.6/dist-packages (1.1.2)\n",
      "Requirement already satisfied: matplotlib in /usr/local/lib/python3.6/dist-packages (from japanize_matplotlib) (3.2.2)\n",
      "Requirement already satisfied: python-dateutil>=2.1 in /usr/local/lib/python3.6/dist-packages (from matplotlib->japanize_matplotlib) (2.8.1)\n",
      "Requirement already satisfied: kiwisolver>=1.0.1 in /usr/local/lib/python3.6/dist-packages (from matplotlib->japanize_matplotlib) (1.2.0)\n",
      "Requirement already satisfied: pyparsing!=2.0.4,!=2.1.2,!=2.1.6,>=2.0.1 in /usr/local/lib/python3.6/dist-packages (from matplotlib->japanize_matplotlib) (2.4.7)\n",
      "Requirement already satisfied: cycler>=0.10 in /usr/local/lib/python3.6/dist-packages (from matplotlib->japanize_matplotlib) (0.10.0)\n",
      "Requirement already satisfied: numpy>=1.11 in /usr/local/lib/python3.6/dist-packages (from matplotlib->japanize_matplotlib) (1.18.5)\n",
      "Requirement already satisfied: six>=1.5 in /usr/local/lib/python3.6/dist-packages (from python-dateutil>=2.1->matplotlib->japanize_matplotlib) (1.15.0)\n"
     ]
    }
   ],
   "source": [
    "pip install japanize_matplotlib"
   ]
  },
  {
   "cell_type": "code",
   "execution_count": 7,
   "metadata": {
    "colab": {},
    "colab_type": "code",
    "id": "YEdvepyuOQ0H"
   },
   "outputs": [],
   "source": [
    "def cv_linear(X,y,K):\n",
    "    n=len(y);m=int(n/K)\n",
    "    S=0\n",
    "    for j in range(K):\n",
    "        test=list(range(j*m,(j+1)*m)) # テストデータの添え字 \n",
    "        train=list(set(range(n))-set(test))     # 訓練データの添え字\n",
    "        beta=np.linalg.inv(X[train,].T@X[train,])@X[train,].T@y[train]\n",
    "        e=y[test]-X[test,]@beta\n",
    "        S=S+np.linalg.norm(e)**2\n",
    "    return S/n"
   ]
  },
  {
   "cell_type": "code",
   "execution_count": 8,
   "metadata": {
    "colab": {},
    "colab_type": "code",
    "id": "dcm1KjM3OQ0V"
   },
   "outputs": [],
   "source": [
    "n=100;p=5\n",
    "X=randn(n,p)\n",
    "X=np.insert(X, 0, 1, axis=1)"
   ]
  },
  {
   "cell_type": "code",
   "execution_count": 9,
   "metadata": {
    "colab": {},
    "colab_type": "code",
    "id": "U41MQVElOQ0g"
   },
   "outputs": [],
   "source": [
    "beta=randn(p+1)\n",
    "beta[[1,2]]=0\n",
    "y=X@beta+randn(n)"
   ]
  },
  {
   "cell_type": "code",
   "execution_count": 10,
   "metadata": {
    "colab": {
     "base_uri": "https://localhost:8080/",
     "height": 35
    },
    "colab_type": "code",
    "id": "IYEASW86OQ0q",
    "outputId": "420ba52c-de8c-406a-c7c6-a3ec60b2876b"
   },
   "outputs": [
    {
     "data": {
      "text/plain": [
       "1.2392322156874365"
      ]
     },
     "execution_count": 10,
     "metadata": {
      "tags": []
     },
     "output_type": "execute_result"
    }
   ],
   "source": [
    "cv_linear(X[:,[0,3,4,5]],y,10)"
   ]
  },
  {
   "cell_type": "code",
   "execution_count": 11,
   "metadata": {
    "colab": {
     "base_uri": "https://localhost:8080/",
     "height": 35
    },
    "colab_type": "code",
    "id": "WM5ojDsNOQ07",
    "outputId": "6293ed70-8438-4ca6-eb1d-764ba1765ae8"
   },
   "outputs": [
    {
     "data": {
      "text/plain": [
       "1.2835848110575439"
      ]
     },
     "execution_count": 11,
     "metadata": {
      "tags": []
     },
     "output_type": "execute_result"
    }
   ],
   "source": [
    "cv_linear(X,y,10)"
   ]
  },
  {
   "cell_type": "code",
   "execution_count": 12,
   "metadata": {
    "colab": {},
    "colab_type": "code",
    "id": "cYzI1S84OQ1F"
   },
   "outputs": [],
   "source": [
    "n=100;p=5\n",
    "X=randn(n,p)\n",
    "X=np.insert(X, 0, 1, axis=1)\n",
    "beta=randn(p+1);beta[[1,2]]=0"
   ]
  },
  {
   "cell_type": "code",
   "execution_count": 13,
   "metadata": {
    "colab": {},
    "colab_type": "code",
    "id": "N5G1ZIpROQ1Y"
   },
   "outputs": [],
   "source": [
    "U=[]; V=[] \n",
    "for j in range(100):\n",
    "    y=X@beta+randn(n)\n",
    "    U.append(cv_linear(X[:,[0,3,4,5]],y,10))\n",
    "    V.append(cv_linear(X,y,10))"
   ]
  },
  {
   "cell_type": "code",
   "execution_count": 14,
   "metadata": {
    "colab": {
     "base_uri": "https://localhost:8080/",
     "height": 311
    },
    "colab_type": "code",
    "id": "WHxUnS4GOQ1q",
    "outputId": "1deb0543-8cd8-4ffc-fa70-8d72f53b942e"
   },
   "outputs": [
    {
     "data": {
      "text/plain": [
       "Text(0.5, 1.0, ' 変数を多く選びすぎて過学習')"
      ]
     },
     "execution_count": 14,
     "metadata": {
      "tags": []
     },
     "output_type": "execute_result"
    },
    {
     "data": {
      "image/png": "[encoded data removed]",
      "text/plain": [
       "<Figure size 432x288 with 1 Axes>"
      ]
     },
     "metadata": {
      "needs_background": "light",
      "tags": []
     },
     "output_type": "display_data"
    }
   ],
   "source": [
    "x_seq=np.linspace(0.7,1.5,100)\n",
    "y=x_seq\n",
    "plt.plot(x_seq,y,c=\"red\")\n",
    "plt.scatter(U,V)\n",
    "plt.xlabel(\" 変数4,5,6を選んだ時の２乗誤差\")\n",
    "plt.ylabel(\" 全変数を選んだ時の２乗誤差\")\n",
    "plt.title(\" 変数を多く選びすぎて過学習\")"
   ]
  },
  {
   "cell_type": "code",
   "execution_count": 15,
   "metadata": {
    "colab": {
     "base_uri": "https://localhost:8080/",
     "height": 277
    },
    "colab_type": "code",
    "id": "MbFiYXdvOQ16",
    "outputId": "0ce62867-03c5-49cd-f3d0-ad24f9d6f012"
   },
   "outputs": [
    {
     "data": {
      "image/png": "[encoded data removed]",
      "text/plain": [
       "<Figure size 432x288 with 1 Axes>"
      ]
     },
     "metadata": {
      "needs_background": "light",
      "tags": []
     },
     "output_type": "display_data"
    }
   ],
   "source": [
    "n=100;p=5\n",
    "plt.ylim(0.3,1.5)\n",
    "plt.xlabel(\"k\")\n",
    "plt.ylabel(\"CVの値\")\n",
    "for j in range(2,11,1):\n",
    "    X=randn(n,p)\n",
    "    X=np.insert(X, 0, 1, axis=1)\n",
    "    beta=randn(p+1)\n",
    "    y=X@beta+randn(n)\n",
    "    U = []; V = []\n",
    "    for k in range(2,n+1,1):\n",
    "        if n%k==0:\n",
    "            U.append(k); V.append(cv_linear(X,y,k))\n",
    "    plt.plot(U,V)        "
   ]
  },
  {
   "cell_type": "code",
   "execution_count": 16,
   "metadata": {
    "colab": {},
    "colab_type": "code",
    "id": "LKtAUb7IOQ2F"
   },
   "outputs": [],
   "source": [
    "def knn_1(x,y,z,k):   # 再掲\n",
    "    x=np.array(x)\n",
    "    n,p=x.shape\n",
    "    dis=np.zeros(n)\n",
    "    for i in range(n):\n",
    "        dis[i]=(z-x[i,]).T@(z-x[i,])\n",
    "    S=np.argsort(dis)[0:k]  # 距離が近いk個のindex\n",
    "    u=np.bincount(y[S])     # 度数を数える\n",
    "    m = [i for i, x in enumerate(u) if x == max(u)] # 最頻値のindex\n",
    "    # タイブレーキングの処理(最頻値が２個以上ある場合)\n",
    "    while (len(m)>1):\n",
    "        k=k-1\n",
    "        S=S[0:k]\n",
    "        u=np.bincount(y[S])\n",
    "        m = [i for i, x in enumerate(u) if x == max(u)] # 最頻値のindex\n",
    "    return m[0]\n",
    "def knn(x,y,z,k):\n",
    "    n=z.shape[0]\n",
    "    w=np.zeros(n)\n",
    "    for i in range(n):\n",
    "        w[i]=knn_1(x,y,z[i,],k)\n",
    "    return w"
   ]
  },
  {
   "cell_type": "code",
   "execution_count": 17,
   "metadata": {
    "colab": {},
    "colab_type": "code",
    "id": "ot7elt3fOQ2Z"
   },
   "outputs": [],
   "source": [
    "from sklearn.datasets import load_iris\n",
    "iris = load_iris()\n",
    "iris.target_names\n",
    "x=iris.data\n",
    "y=iris.target"
   ]
  },
  {
   "cell_type": "code",
   "execution_count": 18,
   "metadata": {
    "colab": {},
    "colab_type": "code",
    "id": "YC8MHkvgOQ2j"
   },
   "outputs": [],
   "source": [
    "n=x.shape[0]\n",
    "index=np.random.choice(n, n, replace=False) # 並び替える\n",
    "x=x[index,]\n",
    "y=y[index]"
   ]
  },
  {
   "cell_type": "code",
   "execution_count": 19,
   "metadata": {
    "colab": {
     "base_uri": "https://localhost:8080/",
     "height": 309
    },
    "colab_type": "code",
    "id": "9U_DycmtOQ2v",
    "outputId": "961b7265-35f0-4fc3-876e-f9f0780e8cf4"
   },
   "outputs": [
    {
     "data": {
      "text/plain": [
       "Text(0.5, 1.0, 'CV による誤り率の評価')"
      ]
     },
     "execution_count": 19,
     "metadata": {
      "tags": []
     },
     "output_type": "execute_result"
    },
    {
     "data": {
      "image/png": "[encoded data removed]",
      "text/plain": [
       "<Figure size 432x288 with 1 Axes>"
      ]
     },
     "metadata": {
      "needs_background": "light",
      "tags": []
     },
     "output_type": "display_data"
    }
   ],
   "source": [
    "U = []\n",
    "V = []\n",
    "top_seq=list(range(0,150,15))    ## 2020-7-23 KM氏が指摘\n",
    "for k in range(1,11,1):\n",
    "    S=0\n",
    "    for top in top_seq:\n",
    "        test=list(range(top,top+15))\n",
    "        train=list(set(range(150))-set(test))\n",
    "        knn_ans=knn(x[train,],y[train],x[test,],k=k)\n",
    "        ans=y[test]\n",
    "        S=S+np.sum(knn_ans!=ans)\n",
    "    S=S/n\n",
    "    U.append(k)\n",
    "    V.append(S)\n",
    "plt.plot(U,V)\n",
    "plt.xlabel(\"K\")\n",
    "plt.ylabel(\" 誤り率\")\n",
    "plt.title(\"CV による誤り率の評価\")"
   ]
  },
  {
   "cell_type": "markdown",
   "metadata": {
    "colab_type": "text",
    "id": "0Q_OgGYTOQ24"
   },
   "source": [
    "↑データによって結構かわります"
   ]
  },
  {
   "cell_type": "markdown",
   "metadata": {
    "colab_type": "text",
    "id": "7mbzqqZCOQ26"
   },
   "source": [
    "## 3.2 CV fast"
   ]
  },
  {
   "cell_type": "code",
   "execution_count": 20,
   "metadata": {
    "colab": {},
    "colab_type": "code",
    "id": "dHTtBddkOQ27"
   },
   "outputs": [],
   "source": [
    "def cv_fast(X,y,k):\n",
    "    n=len(y)\n",
    "    m=n/k\n",
    "    H=X@np.linalg.inv(X.T@X)@X.T\n",
    "    I=np.diag(np.repeat(1,n))\n",
    "    e=(I-H)@y\n",
    "    I=np.diag(np.repeat(1,m))\n",
    "    S=0\n",
    "    for j in range(k):\n",
    "        test=np.arange(j*m,(j+1)*m,1,dtype=int)\n",
    "        S=S+(np.linalg.inv(I-H[test,:][:,test])@e[test]).T@np.linalg.inv(I-H[test,test])@e[test]\n",
    "    return S/n"
   ]
  },
  {
   "cell_type": "code",
   "execution_count": 21,
   "metadata": {
    "colab": {
     "base_uri": "https://localhost:8080/",
     "height": 35
    },
    "colab_type": "code",
    "id": "iw-VPx6oOQ3C",
    "outputId": "8339b4ad-8c96-47c3-d895-ce39c77f8522"
   },
   "outputs": [
    {
     "data": {
      "text/plain": [
       "0.05066027652535804"
      ]
     },
     "execution_count": 21,
     "metadata": {
      "tags": []
     },
     "output_type": "execute_result"
    }
   ],
   "source": [
    "cv_fast(x,y,10)"
   ]
  },
  {
   "cell_type": "code",
   "execution_count": 22,
   "metadata": {
    "colab": {},
    "colab_type": "code",
    "id": "f8yqLiKZOQ3O"
   },
   "outputs": [],
   "source": [
    "n=1000;p=5\n",
    "beta=randn(p+1)\n",
    "x=randn(n,p)\n",
    "X=np.insert(x, 0, 1, axis=1)"
   ]
  },
  {
   "cell_type": "code",
   "execution_count": 23,
   "metadata": {
    "colab": {},
    "colab_type": "code",
    "id": "SKsyaDe7OQ3a"
   },
   "outputs": [],
   "source": [
    "y=X@beta+randn(n)"
   ]
  },
  {
   "cell_type": "code",
   "execution_count": 24,
   "metadata": {
    "colab": {},
    "colab_type": "code",
    "id": "WMgWzYj-OQ3i"
   },
   "outputs": [],
   "source": [
    "import time"
   ]
  },
  {
   "cell_type": "code",
   "execution_count": 25,
   "metadata": {
    "colab": {
     "base_uri": "https://localhost:8080/",
     "height": 311
    },
    "colab_type": "code",
    "id": "XMx0WIq2OQ3r",
    "outputId": "54b42944-40eb-4ce7-a423-df4ac70423e2"
   },
   "outputs": [
    {
     "data": {
      "text/plain": [
       "Text(0.5, 1.0, 'cv_fastとcv_linearの比較')"
      ]
     },
     "execution_count": 25,
     "metadata": {
      "tags": []
     },
     "output_type": "execute_result"
    },
    {
     "data": {
      "image/png": "[encoded data removed]",
      "text/plain": [
       "<Figure size 432x288 with 1 Axes>"
      ]
     },
     "metadata": {
      "needs_background": "light",
      "tags": []
     },
     "output_type": "display_data"
    }
   ],
   "source": [
    "U_l=[]; V_l=[]; U_f=[]; V_f=[]\n",
    "for k in range(2,n+1,1):\n",
    "    if n%k==0:\n",
    "        t1=time.time() # 処理前の時刻\n",
    "        cv_linear(X,y,k)\n",
    "        t2=time.time() #処理後の時刻\n",
    "        U_l.append(k); V_l.append(t2-t1)\n",
    "        t1=time.time() \n",
    "        cv_fast(X,y,k)\n",
    "        t2=time.time() \n",
    "        U_f.append(k); V_f.append(t2-t1)\n",
    "plt.plot(U_l,V_l,c=\"red\",label=\"cv_linear\")\n",
    "plt.plot(U_f,V_f,c=\"blue\",label=\"cv_fast\")\n",
    "plt.legend()  \n",
    "plt.xlabel(\"k\")\n",
    "plt.ylabel(\"実行時間\")\n",
    "plt.title(\"cv_fastとcv_linearの比較\")"
   ]
  },
  {
   "cell_type": "markdown",
   "metadata": {
    "colab_type": "text",
    "id": "M013wgzBOQ35"
   },
   "source": [
    "## 3.3 ブートストラップ"
   ]
  },
  {
   "cell_type": "code",
   "execution_count": 1,
   "metadata": {
    "colab": {},
    "colab_type": "code",
    "id": "YZ2VelctOQ36"
   },
   "outputs": [],
   "source": [
    "def bt(df,f,r):\n",
    "    m=df.shape[0]\n",
    "    org=f(df,np.arange(0,m,1))\n",
    "    u=[]\n",
    "    for j in range(r):\n",
    "        index=np.random.choice(m, m, replace=True) \n",
    "        u.append(f(df,index))\n",
    "    return {'original':org, 'bias':np.mean(u)-org, 'stderr':np.std(u,ddof=1)}"
   ]
  },
  {
   "cell_type": "code",
   "execution_count": 31,
   "metadata": {
    "colab": {},
    "colab_type": "code",
    "id": "tvDwHhAGOQ4D"
   },
   "outputs": [],
   "source": [
    "Portfolio=np.loadtxt(\"Portfolio.csv\",delimiter=\",\",skiprows=1)"
   ]
  },
  {
   "cell_type": "code",
   "execution_count": 35,
   "metadata": {
    "colab": {},
    "colab_type": "code",
    "id": "Md-xVx_KOQ4M"
   },
   "outputs": [],
   "source": [
    "def func_1(data,index):\n",
    "    X=data[index,0];Y=data[index,1]\n",
    "    return (np.var(Y,ddof=1)-np.var(X,ddof=1))/(np.var(X,ddof=1)+np.var(Y,ddof=1)-2*np.cov(X,Y)[0,1])"
   ]
  },
  {
   "cell_type": "code",
   "execution_count": 36,
   "metadata": {
    "colab": {
     "base_uri": "https://localhost:8080/",
     "height": 69
    },
    "colab_type": "code",
    "id": "SkuxPmxDOQ4Y",
    "outputId": "983ae62c-92a6-4e43-828d-634c48c78d48"
   },
   "outputs": [
    {
     "data": {
      "text/plain": [
       "{'bias': 0.006650686748271795,\n",
       " 'original': 0.15166414929676297,\n",
       " 'stderr': 0.189698210945925}"
      ]
     },
     "execution_count": 36,
     "metadata": {
      "tags": []
     },
     "output_type": "execute_result"
    }
   ],
   "source": [
    "bt(Portfolio,func_1,1000)"
   ]
  },
  {
   "cell_type": "code",
   "execution_count": 38,
   "metadata": {
    "colab": {},
    "colab_type": "code",
    "id": "6jSR5Y7bOQ4m"
   },
   "outputs": [],
   "source": [
    "df=np.loadtxt(\"crime.txt\",delimiter=\"\\t\")"
   ]
  },
  {
   "cell_type": "code",
   "execution_count": 39,
   "metadata": {
    "colab": {
     "base_uri": "https://localhost:8080/",
     "height": 35
    },
    "colab_type": "code",
    "id": "GZowvZluOQ41",
    "outputId": "dbd7c5a6-3905-445b-fd7e-03d673d66798"
   },
   "outputs": [
    {
     "data": {
      "text/plain": [
       "array([11.8583308 , -5.97341169])"
      ]
     },
     "execution_count": 39,
     "metadata": {
      "tags": []
     },
     "output_type": "execute_result"
    }
   ],
   "source": [
    "from sklearn import linear_model\n",
    "reg = linear_model.LinearRegression()\n",
    "X=df[:,2:4]\n",
    "y=df[:,0]\n",
    "reg.fit(X,y)\n",
    "reg.coef_"
   ]
  },
  {
   "cell_type": "code",
   "execution_count": null,
   "metadata": {
    "colab": {},
    "colab_type": "code",
    "id": "CKH9ZFo8OQ5C"
   },
   "outputs": [],
   "source": [
    "for j in range(3):\n",
    "    def func_2(data,index):\n",
    "        X=data[index,2:4];y=data[index,0]\n",
    "        reg.fit(X,y)\n",
    "        if j==0:\n",
    "            return reg.intercept_\n",
    "        else:\n",
    "            return reg.coef_[j-1]\n",
    "    print (bt(df,func_2,1000))"
   ]
  },
  {
   "cell_type": "code",
   "execution_count": null,
   "metadata": {
    "colab": {},
    "colab_type": "code",
    "id": "umYmUv7eOQ5U"
   },
   "outputs": [],
   "source": [
    "import statsmodels.api as sm\n",
    "n=X.shape[0]\n",
    "X=np.insert(X, 0, 1, axis=1)\n",
    "model = sm.OLS(y,X)\n",
    "res = model.fit()\n",
    "print(res.summary())"
   ]
  },
  {
   "cell_type": "code",
   "execution_count": null,
   "metadata": {
    "colab": {},
    "colab_type": "code",
    "id": "3CEtWBfHOQ5i"
   },
   "outputs": [],
   "source": [
    "n=1000; p=5\n",
    "X=np.insert(randn(n,p), 0, 1, axis=1)\n",
    "beta=randn(p+1).reshape(-1,1)\n",
    "y=X@beta+0.2*randn(n).reshape(-1,1)\n",
    "y=y[:,0]\n",
    "## 通常のクロスバリデーションによる方法\n",
    "def cv_linear(X,y,K):\n",
    "    n=len(y);m=int(n/K)\n",
    "    S=0\n",
    "    for j in range(K):\n",
    "        test=list(range(j*m,(j+1)*m)) # テストデータの添え字 \n",
    "        train=list(set(range(n))-set(test))     # 訓練データの添え字\n",
    "        beta=np.linalg.inv(X[train,].T@X[train,])@X[train,].T@y[train]\n",
    "        e=y[test]-X[test,]@beta\n",
    "        S=S+np.linalg.norm(e)**2\n",
    "    return S/n\n",
    "## 公式を用いた方法\n",
    "def cv_fast(X,y,k):\n",
    "    n=len(y)\n",
    "    m=n/k\n",
    "    H=X@np.linalg.inv(X.T@X)@X.T\n",
    "    I=np.diag(np.repeat(1,n))\n",
    "    e=(I-H)@y\n",
    "    I=np.diag(np.repeat(1,m))\n",
    "    S=0\n",
    "    for j in range(k):\n",
    "        test=np.arange(j*m,(j+1)*m,1,dtype=int)\n",
    "        S=S+(np.linalg.inv(I-H[test,test])@e[test]).T@np.linalg.inv(I-H[test,test])@e[test]\n",
    "    return S/n"
   ]
  }
 ],
 "metadata": {
  "colab": {
   "collapsed_sections": [],
   "name": "2-3.ipynb",
   "provenance": [],
   "toc_visible": true
  },
  "kernelspec": {
   "display_name": "Python 3",
   "language": "python",
   "name": "python3"
  },
  "language_info": {
   "codemirror_mode": {
    "name": "ipython",
    "version": 3
   },
   "file_extension": ".py",
   "mimetype": "text/x-python",
   "name": "python",
   "nbconvert_exporter": "python",
   "pygments_lexer": "ipython3",
   "version": "3.8.3"
  }
 },
 "nbformat": 4,
 "nbformat_minor": 1
}
